{
 "cells": [
  {
   "cell_type": "code",
   "execution_count": null,
   "metadata": {},
   "outputs": [],
   "source": [
    "import scipy.io\n",
    "import numpy as np\n",
    "import os\n",
    "import cv2\n",
    "from tqdm import tqdm\n",
    "\n",
    "def extract_masks_from_dat(dat_file_path,filename, output_folder):\n",
    "    # Load the MATLAB .dat file\n",
    "    mat_data = scipy.io.loadmat(dat_file_path)\n",
    "    \n",
    "    # Access the mask data (assuming the key is 'GTcls')\n",
    "    masks = mat_data['GTcls']['Segmentation'][0, 0]\n",
    "\n",
    "    # Create the output folder if it doesn't exist\n",
    "    if not os.path.exists(output_folder):\n",
    "        os.makedirs(output_folder)\n",
    "\n",
    "    # Save individual masks as separate PNG files\n",
    "    mask_filename = os.path.join(output_folder, filename.replace(\".mat\",\".png\"))\n",
    "    # Convert to uint8 for image saving\n",
    "    mask_data = (masks).astype(np.uint8)\n",
    "    cv2.imwrite(mask_filename, mask_data)\n",
    "\n",
    "# Example usage\n",
    "DATH_PATH = \"path to the .mat files\"\n",
    "output_folder = './masks'\n",
    "\n",
    "for j in tqdm(os.listdir(DATH_PATH)):\n",
    "    dat_file_path = os.path.join(DATH_PATH,j)\n",
    "    extract_masks_from_dat(dat_file_path,j, output_folder)"
   ]
  }
 ],
 "metadata": {
  "kernelspec": {
   "display_name": "algotrade",
   "language": "python",
   "name": "python3"
  },
  "language_info": {
   "codemirror_mode": {
    "name": "ipython",
    "version": 3
   },
   "file_extension": ".py",
   "mimetype": "text/x-python",
   "name": "python",
   "nbconvert_exporter": "python",
   "pygments_lexer": "ipython3",
   "version": "3.11.3"
  }
 },
 "nbformat": 4,
 "nbformat_minor": 2
}
